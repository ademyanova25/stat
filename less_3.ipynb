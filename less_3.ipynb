{
 "cells": [
  {
   "cell_type": "markdown",
   "id": "48710054",
   "metadata": {},
   "source": [
    "Даны значения зарплат из выборки выпускников: 100, 80, 75, 77, 89, 33, 45, 25, 65, 17, 30, 24, 57, 55, 70, 75, 65, 84, 90, 150. Посчитать (желательно без использования статистических методов наподобие std, var, mean) среднее арифметическое, среднее квадратичное отклонение, смещенную и несмещенную оценки дисперсий для данной выборки."
   ]
  },
  {
   "cell_type": "code",
   "execution_count": 87,
   "id": "a7073071",
   "metadata": {},
   "outputs": [],
   "source": [
    "data = 100, 80, 75, 77, 89, 33, 45, 25, 65, 17, 30, 24, 57, 55, 70, 75, 65, 84, 90, 150"
   ]
  },
  {
   "cell_type": "code",
   "execution_count": 88,
   "id": "16c5666c",
   "metadata": {},
   "outputs": [],
   "source": [
    "def mean(data):\n",
    "    a = len(data)\n",
    "    mean = sum(data) / a\n",
    "    return mean"
   ]
  },
  {
   "cell_type": "code",
   "execution_count": 89,
   "id": "ad7a46d0",
   "metadata": {},
   "outputs": [
    {
     "data": {
      "text/plain": [
       "65.3"
      ]
     },
     "execution_count": 89,
     "metadata": {},
     "output_type": "execute_result"
    }
   ],
   "source": [
    "mean(data)"
   ]
  },
  {
   "cell_type": "code",
   "execution_count": 90,
   "id": "feec16a1",
   "metadata": {},
   "outputs": [],
   "source": [
    "def var(data):\n",
    "    a = len(data)\n",
    "    mean = sum(data) / a\n",
    "    dev = [(x - mean) ** 2 for x in data]\n",
    "    var = sum(dev) / a\n",
    "    return var"
   ]
  },
  {
   "cell_type": "code",
   "execution_count": 91,
   "id": "392b22d1",
   "metadata": {},
   "outputs": [
    {
     "data": {
      "text/plain": [
       "950.11"
      ]
     },
     "execution_count": 91,
     "metadata": {},
     "output_type": "execute_result"
    }
   ],
   "source": [
    "var(data)"
   ]
  },
  {
   "cell_type": "code",
   "execution_count": 92,
   "id": "9aaf9744",
   "metadata": {},
   "outputs": [],
   "source": [
    "def var_1(data):\n",
    "    a = len(data)\n",
    "    mean = sum(data) / a\n",
    "    dev = [(x - mean) ** 2 for x in data]\n",
    "    var = sum(dev) / (a - 1)\n",
    "    return var"
   ]
  },
  {
   "cell_type": "code",
   "execution_count": 93,
   "id": "e9b9b454",
   "metadata": {},
   "outputs": [
    {
     "data": {
      "text/plain": [
       "1000.1157894736842"
      ]
     },
     "execution_count": 93,
     "metadata": {},
     "output_type": "execute_result"
    }
   ],
   "source": [
    "var_1(data)"
   ]
  },
  {
   "cell_type": "code",
   "execution_count": 94,
   "id": "0ce5c91e",
   "metadata": {},
   "outputs": [],
   "source": [
    "def std_dev(data):\n",
    "    import math\n",
    "    a = len(data)\n",
    "    mean = sum(data) / a\n",
    "    dev = [(x - mean) ** 2 for x in data]\n",
    "    var = sum(dev) / a\n",
    "    std_dev = math.sqrt(var)\n",
    "    return std_dev"
   ]
  },
  {
   "cell_type": "code",
   "execution_count": 95,
   "id": "91010ced",
   "metadata": {},
   "outputs": [
    {
     "data": {
      "text/plain": [
       "30.823854398825596"
      ]
     },
     "execution_count": 95,
     "metadata": {},
     "output_type": "execute_result"
    }
   ],
   "source": [
    "std_dev(data)"
   ]
  },
  {
   "cell_type": "markdown",
   "id": "970ce30b",
   "metadata": {},
   "source": [
    "В первом ящике находится 8 мячей, из которых 5 - белые. Во втором ящике - 12 мячей, из которых 5 белых. Из первого ящика вытаскивают случайным образом два мяча, из второго - 4. Какова вероятность того, что 3 мяча белые?"
   ]
  },
  {
   "cell_type": "code",
   "execution_count": 96,
   "id": "4c288442",
   "metadata": {},
   "outputs": [],
   "source": [
    "from math import factorial as f\n",
    "\n",
    "def comb(n, k):\n",
    "    return (f(n)/(f(k)*f(n-k)))"
   ]
  },
  {
   "cell_type": "code",
   "execution_count": 97,
   "id": "013f014b",
   "metadata": {},
   "outputs": [],
   "source": [
    "cont_1 = comb (8, 2)\n",
    "cont_2 = comb (12, 4)"
   ]
  },
  {
   "cell_type": "code",
   "execution_count": 98,
   "id": "43dd9e07",
   "metadata": {},
   "outputs": [
    {
     "data": {
      "text/plain": [
       "0.12626262626262627"
      ]
     },
     "execution_count": 98,
     "metadata": {},
     "output_type": "execute_result"
    }
   ],
   "source": [
    "a1 = comb (5, 2)\n",
    "a2 = comb (5, 1)\n",
    "b1 = comb (7, 3)\n",
    "c1 = a1 / cont_1\n",
    "c2 = (a2 * b1) / cont_2\n",
    "d1 = c1 * c2\n",
    "d1"
   ]
  },
  {
   "cell_type": "code",
   "execution_count": 99,
   "id": "8755626e",
   "metadata": {},
   "outputs": [
    {
     "data": {
      "text/plain": [
       "0.22727272727272727"
      ]
     },
     "execution_count": 99,
     "metadata": {},
     "output_type": "execute_result"
    }
   ],
   "source": [
    "a1 = comb (5, 1)\n",
    "a2 = comb (3, 1)\n",
    "b1 = comb (5, 2)\n",
    "b2 = comb (7, 2)\n",
    "c1 = (a1 * a2) / cont_1\n",
    "c2 = (b1 * b2) / cont_2\n",
    "d2 = c1 * c2\n",
    "d2"
   ]
  },
  {
   "cell_type": "code",
   "execution_count": 100,
   "id": "53ce72a7",
   "metadata": {},
   "outputs": [
    {
     "data": {
      "text/plain": [
       "0.01515151515151515"
      ]
     },
     "execution_count": 100,
     "metadata": {},
     "output_type": "execute_result"
    }
   ],
   "source": [
    "a1 = comb (3, 2)\n",
    "b1 = comb (5, 3)\n",
    "b2 = comb (7, 1)\n",
    "c1 = a1 / cont_1\n",
    "c2 = (b1 * b2) / cont_2\n",
    "d3 = c1 * c2\n",
    "d3"
   ]
  },
  {
   "cell_type": "code",
   "execution_count": 101,
   "id": "f3113e4b",
   "metadata": {},
   "outputs": [
    {
     "data": {
      "text/plain": [
       "0.3686868686868687"
      ]
     },
     "execution_count": 101,
     "metadata": {},
     "output_type": "execute_result"
    }
   ],
   "source": [
    "e = d1 + d2 + d3\n",
    "e"
   ]
  },
  {
   "cell_type": "markdown",
   "id": "a631b36b",
   "metadata": {},
   "source": [
    "На соревновании по биатлону один из трех спортсменов стреляет и попадает в мишень. Вероятность попадания для первого спортсмена равна 0.9, для второго — 0.8, для третьего — 0.6. Найти вероятность того, что выстрел произведен: a). первым спортсменом б). вторым спортсменом в). третьим спортсменом."
   ]
  },
  {
   "cell_type": "code",
   "execution_count": 102,
   "id": "da637ac2",
   "metadata": {},
   "outputs": [],
   "source": [
    "p1 = 0.9\n",
    "p2 = 0.8\n",
    "p3 = 0.6\n",
    "q1 = 1 - p1\n",
    "q2 = 1 - p2\n",
    "q3 = 1 - p3"
   ]
  },
  {
   "cell_type": "code",
   "execution_count": 103,
   "id": "5058d193",
   "metadata": {},
   "outputs": [],
   "source": [
    "pp1 = p1 * q2 * q3\n",
    "pp2 = q1 * p2 * q3\n",
    "pp3 = q1 * q2 * p3"
   ]
  },
  {
   "cell_type": "code",
   "execution_count": 104,
   "id": "bf3e1511",
   "metadata": {},
   "outputs": [
    {
     "data": {
      "text/plain": [
       "0.072"
      ]
     },
     "execution_count": 104,
     "metadata": {},
     "output_type": "execute_result"
    }
   ],
   "source": [
    "pp1"
   ]
  },
  {
   "cell_type": "code",
   "execution_count": 105,
   "id": "53131363",
   "metadata": {},
   "outputs": [
    {
     "data": {
      "text/plain": [
       "0.031999999999999994"
      ]
     },
     "execution_count": 105,
     "metadata": {},
     "output_type": "execute_result"
    }
   ],
   "source": [
    "pp2"
   ]
  },
  {
   "cell_type": "code",
   "execution_count": 106,
   "id": "0eda40ee",
   "metadata": {},
   "outputs": [
    {
     "data": {
      "text/plain": [
       "0.011999999999999993"
      ]
     },
     "execution_count": 106,
     "metadata": {},
     "output_type": "execute_result"
    }
   ],
   "source": [
    "pp3"
   ]
  },
  {
   "cell_type": "markdown",
   "id": "235cfc82",
   "metadata": {},
   "source": [
    "В университет на факультеты A и B поступило равное количество студентов, а на факультет C студентов поступило столько же, сколько на A и B вместе. Вероятность того, что студент факультета A сдаст первую сессию, равна 0.8. Для студента факультета B эта вероятность равна 0.7, а для студента факультета C - 0.9. Студент сдал первую сессию. Какова вероятность, что он учится: a). на факультете A б). на факультете B в). на факультете C?"
   ]
  },
  {
   "cell_type": "code",
   "execution_count": 107,
   "id": "cc00426d",
   "metadata": {},
   "outputs": [
    {
     "data": {
      "text/plain": [
       "0.825"
      ]
     },
     "execution_count": 107,
     "metadata": {},
     "output_type": "execute_result"
    }
   ],
   "source": [
    "qA = 0.25\n",
    "qB = 0.25\n",
    "qC = 0.5\n",
    "\n",
    "pA = 0.8\n",
    "pB = 0.7\n",
    "pC = 0.9\n",
    "\n",
    "p = qA * pA +  qB * pB + qC * pC\n",
    "p"
   ]
  },
  {
   "cell_type": "code",
   "execution_count": 108,
   "id": "4287a3b9",
   "metadata": {},
   "outputs": [
    {
     "data": {
      "text/plain": [
       "0.24242424242424246"
      ]
     },
     "execution_count": 108,
     "metadata": {},
     "output_type": "execute_result"
    }
   ],
   "source": [
    "a = qA * pA / p\n",
    "a"
   ]
  },
  {
   "cell_type": "code",
   "execution_count": 109,
   "id": "cd139120",
   "metadata": {},
   "outputs": [
    {
     "data": {
      "text/plain": [
       "0.21212121212121213"
      ]
     },
     "execution_count": 109,
     "metadata": {},
     "output_type": "execute_result"
    }
   ],
   "source": [
    "b = qB * pB / p\n",
    "b"
   ]
  },
  {
   "cell_type": "code",
   "execution_count": 110,
   "id": "b6e19aa9",
   "metadata": {},
   "outputs": [
    {
     "data": {
      "text/plain": [
       "0.5454545454545455"
      ]
     },
     "execution_count": 110,
     "metadata": {},
     "output_type": "execute_result"
    }
   ],
   "source": [
    "c = qC * pC / p\n",
    "c"
   ]
  },
  {
   "cell_type": "markdown",
   "id": "81f20f85",
   "metadata": {},
   "source": [
    "Устройство состоит из трех деталей. Для первой детали вероятность выйти из строя в первый месяц равна 0.1, для второй - 0.2, для третьей - 0.25. Какова вероятность того, что в первый месяц выйдут из строя: а). все детали б). только две детали в). хотя бы одна деталь г). от одной до двух деталей?"
   ]
  },
  {
   "cell_type": "code",
   "execution_count": 111,
   "id": "6cc6955e",
   "metadata": {},
   "outputs": [
    {
     "data": {
      "text/plain": [
       "0.005000000000000001"
      ]
     },
     "execution_count": 111,
     "metadata": {},
     "output_type": "execute_result"
    }
   ],
   "source": [
    "p1 = 0.1\n",
    "p2 = 0.2\n",
    "p3 = 0.25\n",
    "\n",
    "q1 = 1 - p1\n",
    "q2 = 1 - p2\n",
    "q3 = 1 - p3\n",
    "\n",
    "p1 = p1 * p2 * p3\n",
    "p1"
   ]
  },
  {
   "cell_type": "code",
   "execution_count": 112,
   "id": "7d26a86c",
   "metadata": {},
   "outputs": [
    {
     "data": {
      "text/plain": [
       "0.04675000000000001"
      ]
     },
     "execution_count": 112,
     "metadata": {},
     "output_type": "execute_result"
    }
   ],
   "source": [
    "a = p1 * p2 * q3\n",
    "b = p1 * q2 * p3\n",
    "c = q1 * p2 * p3\n",
    "p2 = a + b + c\n",
    "p2"
   ]
  },
  {
   "cell_type": "code",
   "execution_count": 113,
   "id": "652d14fe",
   "metadata": {},
   "outputs": [
    {
     "data": {
      "text/plain": [
       "0.45999999999999996"
      ]
     },
     "execution_count": 113,
     "metadata": {},
     "output_type": "execute_result"
    }
   ],
   "source": [
    "p3 = 1 - (q1 * q2 * q3)\n",
    "p3"
   ]
  },
  {
   "cell_type": "code",
   "execution_count": 114,
   "id": "5cd76a00",
   "metadata": {},
   "outputs": [
    {
     "data": {
      "text/plain": [
       "0.41250625"
      ]
     },
     "execution_count": 114,
     "metadata": {},
     "output_type": "execute_result"
    }
   ],
   "source": [
    "a = p1 * q2 * q3\n",
    "b = q1 * p2 * q3\n",
    "c = q1 * q2 * p3\n",
    "p4 = a + b + c + p2\n",
    "p4"
   ]
  }
 ],
 "metadata": {
  "kernelspec": {
   "display_name": "Python 3",
   "language": "python",
   "name": "python3"
  },
  "language_info": {
   "codemirror_mode": {
    "name": "ipython",
    "version": 3
   },
   "file_extension": ".py",
   "mimetype": "text/x-python",
   "name": "python",
   "nbconvert_exporter": "python",
   "pygments_lexer": "ipython3",
   "version": "3.8.8"
  }
 },
 "nbformat": 4,
 "nbformat_minor": 5
}
