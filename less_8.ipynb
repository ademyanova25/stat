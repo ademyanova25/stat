{
 "cells": [
  {
   "cell_type": "markdown",
   "id": "e8029d60",
   "metadata": {},
   "source": [
    "Провести дисперсионный анализ для определения того, есть ли различия среднего роста среди взрослых футболистов, хоккеистов и штангистов. (Сделать вывод для альфа 1% и 5%) Даны значения роста в трех группах случайно выбранных спортсменов: Футболисты: 173, 175, 180, 178, 177, 185, 183, 182. Хоккеисты: 177, 179, 180, 188, 177, 172, 171, 184, 180. Штангисты: 172, 173, 169, 177, 166, 180, 178, 177, 172, 166, 170."
   ]
  },
  {
   "cell_type": "code",
   "execution_count": 13,
   "id": "5b89f1ee",
   "metadata": {},
   "outputs": [],
   "source": [
    "import numpy as np\n",
    "from scipy import stats"
   ]
  },
  {
   "cell_type": "code",
   "execution_count": 14,
   "id": "90350f9a",
   "metadata": {},
   "outputs": [],
   "source": [
    "x1 = np.array([173, 175, 180, 178, 177, 185, 183, 182])"
   ]
  },
  {
   "cell_type": "code",
   "execution_count": 15,
   "id": "bf157a87",
   "metadata": {},
   "outputs": [],
   "source": [
    "x2 = np.array([177, 179, 180, 188, 177, 172, 171, 184, 180]) "
   ]
  },
  {
   "cell_type": "code",
   "execution_count": 16,
   "id": "ccaf92d8",
   "metadata": {},
   "outputs": [],
   "source": [
    "x3 = np.array([172, 173, 169, 177, 166, 180, 178, 177, 172, 166, 170])"
   ]
  },
  {
   "cell_type": "markdown",
   "id": "81f8a4b5",
   "metadata": {},
   "source": [
    "H0 : средний рост спортсмена не зависит от вида спорта,\n",
    "H1: зависит"
   ]
  },
  {
   "cell_type": "code",
   "execution_count": 17,
   "id": "3db1b069",
   "metadata": {},
   "outputs": [
    {
     "data": {
      "text/plain": [
       "F_onewayResult(statistic=5.500053450812596, pvalue=0.010482206918698694)"
      ]
     },
     "execution_count": 17,
     "metadata": {},
     "output_type": "execute_result"
    }
   ],
   "source": [
    "stats.f_oneway(x1, x2, x3)"
   ]
  },
  {
   "cell_type": "markdown",
   "id": "f0887d4e",
   "metadata": {},
   "source": [
    "P = 0,0104 -> 1,04%.\n",
    "На уровне альфа 5% отвергаем нулевую гипотезу.\n",
    "Но на уровне альфа 1% нулевую гипотезу отвергнуть не можем."
   ]
  }
 ],
 "metadata": {
  "kernelspec": {
   "display_name": "Python 3",
   "language": "python",
   "name": "python3"
  },
  "language_info": {
   "codemirror_mode": {
    "name": "ipython",
    "version": 3
   },
   "file_extension": ".py",
   "mimetype": "text/x-python",
   "name": "python",
   "nbconvert_exporter": "python",
   "pygments_lexer": "ipython3",
   "version": "3.8.8"
  }
 },
 "nbformat": 4,
 "nbformat_minor": 5
}
