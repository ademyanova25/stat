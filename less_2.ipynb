{
 "cells": [
  {
   "cell_type": "markdown",
   "id": "9cfddfe7",
   "metadata": {},
   "source": [
    "Вероятность того, что стрелок попадет в мишень, выстрелив один раз, равна 0.8. Стрелок выстрелил 100 раз. Найдите вероятность того, что стрелок попадет в цель ровно 85 раз."
   ]
  },
  {
   "cell_type": "code",
   "execution_count": 15,
   "id": "1d03b9fa",
   "metadata": {},
   "outputs": [],
   "source": [
    "from math import factorial as f"
   ]
  },
  {
   "cell_type": "code",
   "execution_count": 16,
   "id": "ac088b8b",
   "metadata": {},
   "outputs": [
    {
     "data": {
      "text/plain": [
       "0.048061793700746355"
      ]
     },
     "execution_count": 16,
     "metadata": {},
     "output_type": "execute_result"
    }
   ],
   "source": [
    "n = 100\n",
    "k = 85\n",
    "p = 0.8\n",
    "q = 1 - p\n",
    "\n",
    "Pk = (f(n) / (f(k) * f(n - k))) * p ** k * q ** (n - k)\n",
    "\n",
    "Pk"
   ]
  },
  {
   "cell_type": "markdown",
   "id": "ba37c6b1",
   "metadata": {},
   "source": [
    "Вероятность того, что лампочка перегорит в течение первого дня эксплуатации, равна 0.0004. В жилом комплексе после ремонта в один день включили 5000 новых лампочек. Какова вероятность, что ни одна из них не перегорит в первый день? Какова вероятность, что перегорят ровно две?"
   ]
  },
  {
   "cell_type": "code",
   "execution_count": 17,
   "id": "26dd85df",
   "metadata": {},
   "outputs": [],
   "source": [
    "m1 = 0\n",
    "m2 = 2\n",
    "n = 5000\n",
    "p = 0.0004\n",
    "\n",
    "lamb = p * n\n",
    "\n",
    "e = 2.72\n",
    "\n",
    "Pm1 = ((lamb ** m1)/f(m1)) * e ** (-lamb)\n",
    "Pm2 = ((lamb ** m2)/f(m2)) * e ** (-lamb)"
   ]
  },
  {
   "cell_type": "code",
   "execution_count": 18,
   "id": "8731d4be",
   "metadata": {},
   "outputs": [
    {
     "data": {
      "text/plain": [
       "0.13516435986159167"
      ]
     },
     "execution_count": 18,
     "metadata": {},
     "output_type": "execute_result"
    }
   ],
   "source": [
    "Pm1"
   ]
  },
  {
   "cell_type": "code",
   "execution_count": 19,
   "id": "c850b3f9",
   "metadata": {},
   "outputs": [
    {
     "data": {
      "text/plain": [
       "0.27032871972318334"
      ]
     },
     "execution_count": 19,
     "metadata": {},
     "output_type": "execute_result"
    }
   ],
   "source": [
    "Pm2"
   ]
  },
  {
   "cell_type": "markdown",
   "id": "5aa8778f",
   "metadata": {},
   "source": [
    "Монету подбросили 144 раза. Какова вероятность, что орел выпадет ровно 70 раз?"
   ]
  },
  {
   "cell_type": "code",
   "execution_count": 20,
   "id": "9d4a4242",
   "metadata": {
    "scrolled": true
   },
   "outputs": [
    {
     "data": {
      "text/plain": [
       "0.06281178035144776"
      ]
     },
     "execution_count": 20,
     "metadata": {},
     "output_type": "execute_result"
    }
   ],
   "source": [
    "n = 144\n",
    "k = 70\n",
    "p = 0.5\n",
    "q = 1 - p\n",
    "\n",
    "Pk = (f(n) / (f(k) * f(n - k))) * p ** k * q ** (n - k)\n",
    "\n",
    "Pk"
   ]
  },
  {
   "cell_type": "markdown",
   "id": "505dfd0a",
   "metadata": {},
   "source": [
    "В первом ящике находится 10 мячей, из которых 7 - белые. Во втором ящике - 11 мячей, из которых 9 белых. Из каждого ящика вытаскивают случайным образом по два мяча. Какова вероятность того, что все мячи белые? "
   ]
  },
  {
   "cell_type": "code",
   "execution_count": 21,
   "id": "336873c2",
   "metadata": {},
   "outputs": [
    {
     "data": {
      "text/plain": [
       "0.3054545454545455"
      ]
     },
     "execution_count": 21,
     "metadata": {},
     "output_type": "execute_result"
    }
   ],
   "source": [
    "a = (7 / 10) * (6 / 9)\n",
    "b = (9 / 11) * (8 / 10)\n",
    "c = a * b\n",
    "c"
   ]
  },
  {
   "cell_type": "markdown",
   "id": "f67a8c07",
   "metadata": {},
   "source": [
    "Какова вероятность того, что ровно два мяча белые?"
   ]
  },
  {
   "cell_type": "code",
   "execution_count": 22,
   "id": "66d1c7bc",
   "metadata": {},
   "outputs": [
    {
     "data": {
      "text/plain": [
       "0.20484848484848486"
      ]
     },
     "execution_count": 22,
     "metadata": {},
     "output_type": "execute_result"
    }
   ],
   "source": [
    "a = (7 / 10) * (6 / 9) * (2 / 11) * (1 / 10)\n",
    "b = (9 / 11) * (8 / 10) * (3 / 10) * (2 / 9)\n",
    "c1 = ((7 / 10) * (3 / 9)) + ((3 / 10) * (7 / 9)) \n",
    "c2 = ((9 / 11) * (2 / 10)) + ((2 / 11) * (9 / 10)) \n",
    "c = c1 * c2\n",
    "d = a + b + c\n",
    "d"
   ]
  },
  {
   "cell_type": "markdown",
   "id": "62b56dce",
   "metadata": {},
   "source": [
    "Какова вероятность того, что хотя бы один мяч белый?"
   ]
  },
  {
   "cell_type": "code",
   "execution_count": 23,
   "id": "3124d387",
   "metadata": {},
   "outputs": [
    {
     "data": {
      "text/plain": [
       "0.9987878787878788"
      ]
     },
     "execution_count": 23,
     "metadata": {},
     "output_type": "execute_result"
    }
   ],
   "source": [
    "a = (3 / 10) * (2 / 9) * (2 / 11) * (1 / 10)\n",
    "b = 1 - a\n",
    "b"
   ]
  }
 ],
 "metadata": {
  "kernelspec": {
   "display_name": "Python 3",
   "language": "python",
   "name": "python3"
  },
  "language_info": {
   "codemirror_mode": {
    "name": "ipython",
    "version": 3
   },
   "file_extension": ".py",
   "mimetype": "text/x-python",
   "name": "python",
   "nbconvert_exporter": "python",
   "pygments_lexer": "ipython3",
   "version": "3.8.8"
  }
 },
 "nbformat": 4,
 "nbformat_minor": 5
}
