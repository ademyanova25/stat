{
 "cells": [
  {
   "cell_type": "markdown",
   "id": "f63f26df",
   "metadata": {},
   "source": [
    "Даны значения величины заработной платы заемщиков банка (zp) и значения их поведенческого кредитного скоринга (ks): zp = [35, 45, 190, 200, 40, 70, 54, 150, 120, 110], ks = [401, 574, 874, 919, 459, 739, 653, 902, 746, 832]. Используя математические операции, посчитать коэффициенты линейной регрессии, приняв за X заработную плату (то есть, zp - признак), а за y - значения скорингового балла (то есть, ks - целевая переменная). Произвести расчет как с использованием intercept, так и без."
   ]
  },
  {
   "cell_type": "code",
   "execution_count": 39,
   "id": "2ee651c8",
   "metadata": {},
   "outputs": [],
   "source": [
    "import numpy as np"
   ]
  },
  {
   "cell_type": "code",
   "execution_count": 57,
   "id": "8d3bcdee",
   "metadata": {},
   "outputs": [],
   "source": [
    "x = np.array([35, 45, 190, 200, 40, 70, 54, 150, 120, 110])\n",
    "y = np.array([401, 574, 874, 919, 459, 739, 653, 902, 746, 832])\n",
    "n = 10"
   ]
  },
  {
   "cell_type": "code",
   "execution_count": 41,
   "id": "f62fa277",
   "metadata": {},
   "outputs": [
    {
     "data": {
      "text/plain": [
       "2.620538882402765"
      ]
     },
     "execution_count": 41,
     "metadata": {},
     "output_type": "execute_result"
    }
   ],
   "source": [
    "b = (np.mean(x * y) - np.mean(x) * np.mean(y)) / (np.mean(x**2) - np.mean(x) ** 2)\n",
    "b"
   ]
  },
  {
   "cell_type": "code",
   "execution_count": 42,
   "id": "e9702c02",
   "metadata": {},
   "outputs": [
    {
     "data": {
      "text/plain": [
       "444.1773573243596"
      ]
     },
     "execution_count": 42,
     "metadata": {},
     "output_type": "execute_result"
    }
   ],
   "source": [
    "a = np.mean(y) - b * np.mean(x)\n",
    "a"
   ]
  },
  {
   "cell_type": "code",
   "execution_count": 43,
   "id": "0e0fa829",
   "metadata": {},
   "outputs": [
    {
     "data": {
      "text/plain": [
       "array([535.88, 562.08, 941.98, 968.18, 548.98, 627.58, 585.66, 837.18,\n",
       "       758.58, 732.38])"
      ]
     },
     "execution_count": 43,
     "metadata": {},
     "output_type": "execute_result"
    }
   ],
   "source": [
    "y_pred = 444.18 + 2.62 * x\n",
    "y_pred"
   ]
  },
  {
   "cell_type": "code",
   "execution_count": 44,
   "id": "5a087c05",
   "metadata": {},
   "outputs": [
    {
     "data": {
      "text/plain": [
       "6470.417919999998"
      ]
     },
     "execution_count": 44,
     "metadata": {},
     "output_type": "execute_result"
    }
   ],
   "source": [
    "mse = ((y - y_pred)**2).sum()/n\n",
    "mse"
   ]
  },
  {
   "cell_type": "code",
   "execution_count": 45,
   "id": "99f371fe",
   "metadata": {},
   "outputs": [],
   "source": [
    "X = np.vstack([np.ones((1, 10)), x])"
   ]
  },
  {
   "cell_type": "code",
   "execution_count": 46,
   "id": "6b9cf43e",
   "metadata": {},
   "outputs": [
    {
     "data": {
      "text/plain": [
       "array([444.17735732,   2.62053888])"
      ]
     },
     "execution_count": 46,
     "metadata": {},
     "output_type": "execute_result"
    }
   ],
   "source": [
    "np.dot(np.dot(np.linalg.inv(np.dot(X, X.T)), X), y.T)"
   ]
  },
  {
   "cell_type": "markdown",
   "id": "f8330026",
   "metadata": {},
   "source": [
    "Посчитать коэффициент линейной регрессии при заработной плате (zp), используя градиентный спуск (без intercept)."
   ]
  },
  {
   "cell_type": "code",
   "execution_count": 64,
   "id": "3d7d5112",
   "metadata": {},
   "outputs": [],
   "source": [
    "alpha = 1e-6"
   ]
  },
  {
   "cell_type": "code",
   "execution_count": 48,
   "id": "3cf56579",
   "metadata": {},
   "outputs": [],
   "source": [
    "b1 = 0.1"
   ]
  },
  {
   "cell_type": "code",
   "execution_count": 49,
   "id": "7da40cec",
   "metadata": {},
   "outputs": [],
   "source": [
    "def mse(b1, y=y, X=x, n=10):\n",
    "    return np.sum((b1 * X - y) ** 2) / n"
   ]
  },
  {
   "cell_type": "code",
   "execution_count": 50,
   "id": "36d4dd62",
   "metadata": {},
   "outputs": [
    {
     "name": "stdout",
     "output_type": "stream",
     "text": [
      "iteration: 0, b1 : 0.25952808000000005, mse: 493237.7212546963\n",
      "iteration: 100, b1 : 5.54537842245223, mse: 58151.31823171113\n",
      "iteration: 200, b1 : 5.868748638669329, mse: 56522.97550129376\n",
      "iteration: 300, b1 : 5.888531320728348, mse: 56516.88130936019\n",
      "iteration: 400, b1 : 5.8897415574471985, mse: 56516.85850140053\n",
      "iteration: 500, b1 : 5.889815595583751, mse: 56516.858416040064\n",
      "iteration: 600, b1 : 5.889820124983314, mse: 56516.85841572062\n",
      "iteration: 700, b1 : 5.889820402076462, mse: 56516.85841571941\n",
      "iteration: 800, b1 : 5.88982041902807, mse: 56516.8584157194\n",
      "iteration: 900, b1 : 5.889820420065112, mse: 56516.85841571941\n"
     ]
    }
   ],
   "source": [
    "for i in range(1000):\n",
    "    fp = (2 / n) * np.sum((b1 * x - y) * x)\n",
    "    b1 -= alpha * fp\n",
    "    if i % 100 == 0:\n",
    "        print(f'iteration: {i}, b1 : {b1}, mse: {mse(b1) }')"
   ]
  },
  {
   "cell_type": "markdown",
   "id": "c09691aa",
   "metadata": {},
   "source": [
    "*3. Произвести вычисления как в пункте 2, но с вычислением intercept. Учесть, что изменение коэффициентов должно производиться\n",
    "на каждом шаге одновременно (то есть изменение одного коэффициента не должно влиять на изменение другого во время одной итерации)."
   ]
  },
  {
   "cell_type": "code",
   "execution_count": 92,
   "id": "2f971fae",
   "metadata": {},
   "outputs": [],
   "source": [
    "b1 = 0.1\n",
    "b0 = 0.1"
   ]
  },
  {
   "cell_type": "code",
   "execution_count": 93,
   "id": "8c15921d",
   "metadata": {},
   "outputs": [],
   "source": [
    "def mse(b1, b0, y=y, X=x, n=10):\n",
    "    return np.sum((b0 + b1 * X - y) ** 2) / n"
   ]
  },
  {
   "cell_type": "code",
   "execution_count": 94,
   "id": "4b5c6f67",
   "metadata": {},
   "outputs": [
    {
     "name": "stdout",
     "output_type": "stream",
     "text": [
      "iteration: 0, b0 : 0.10139932, b1 : 0.2595078, mse: 493102.2473380378\n",
      "iteration: 5000, b0 : 1.2677054299048771, b1 : 5.880549741951675, mse: 56231.595781101634\n",
      "iteration: 10000, b0 : 2.3897276091041677, b1 : 5.872291162638266, mse: 55979.79531501689\n",
      "iteration: 15000, b0 : 3.50890737164978, b1 : 5.864053504768133, mse: 55729.26900426182\n",
      "iteration: 20000, b0 : 4.6252519182304, b1 : 5.855836715341024, mse: 55480.010401382904\n",
      "iteration: 25000, b0 : 5.738768431293293, b1 : 5.8476407414909515, mse: 55232.01309155184\n",
      "iteration: 30000, b0 : 6.849464075090356, b1 : 5.839465530485852, mse: 54985.270692400576\n",
      "iteration: 35000, b0 : 7.957345995724427, b1 : 5.831311029727251, mse: 54739.77685385691\n",
      "iteration: 40000, b0 : 9.062421321194899, b1 : 5.8231771867499305, mse: 54495.52525798123\n",
      "iteration: 45000, b0 : 10.164697161444051, b1 : 5.8150639492215435, mse: 54252.5096188037\n"
     ]
    }
   ],
   "source": [
    "for i in range(50000):\n",
    "    fp = (2 / n) * np.sum((b0 + b1 * x - y) * x)\n",
    "    fp0 = (2 / n) * np.sum(b0 + b1 * x - y)\n",
    "    b0 -= alpha * fp0\n",
    "    b1 -= alpha * fp\n",
    "    if i % 5000 == 0:\n",
    "        print(f'iteration: {i}, b0 : {b0}, b1 : {b1}, mse: {mse(b1, b0) }')"
   ]
  },
  {
   "cell_type": "code",
   "execution_count": null,
   "id": "a90460c0",
   "metadata": {},
   "outputs": [],
   "source": []
  }
 ],
 "metadata": {
  "kernelspec": {
   "display_name": "Python 3",
   "language": "python",
   "name": "python3"
  },
  "language_info": {
   "codemirror_mode": {
    "name": "ipython",
    "version": 3
   },
   "file_extension": ".py",
   "mimetype": "text/x-python",
   "name": "python",
   "nbconvert_exporter": "python",
   "pygments_lexer": "ipython3",
   "version": "3.8.8"
  }
 },
 "nbformat": 4,
 "nbformat_minor": 5
}
