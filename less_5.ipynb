{
 "cells": [
  {
   "cell_type": "markdown",
   "id": "9b8ab597",
   "metadata": {},
   "source": [
    "Известно, что генеральная совокупность распределена нормально\n",
    "со средним квадратическим отклонением, равным 16.\n",
    "Найти доверительный интервал для оценки математического ожидания a с надежностью 0.95,\n",
    "если выборочная средняя M = 80, а объем выборки n = 256."
   ]
  },
  {
   "cell_type": "code",
   "execution_count": 98,
   "id": "d3f7e0dc",
   "metadata": {},
   "outputs": [],
   "source": [
    "import math"
   ]
  },
  {
   "cell_type": "code",
   "execution_count": 99,
   "id": "2e5b8a2f",
   "metadata": {},
   "outputs": [],
   "source": [
    "std = 16\n",
    "M = 80\n",
    "n = 256"
   ]
  },
  {
   "cell_type": "code",
   "execution_count": 100,
   "id": "576e37b3",
   "metadata": {},
   "outputs": [
    {
     "data": {
      "text/plain": [
       "81.96"
      ]
     },
     "execution_count": 100,
     "metadata": {},
     "output_type": "execute_result"
    }
   ],
   "source": [
    "M + (1.96 * std / math.sqrt(n))"
   ]
  },
  {
   "cell_type": "code",
   "execution_count": 101,
   "id": "064a26bc",
   "metadata": {},
   "outputs": [
    {
     "data": {
      "text/plain": [
       "78.04"
      ]
     },
     "execution_count": 101,
     "metadata": {},
     "output_type": "execute_result"
    }
   ],
   "source": [
    "M - (1.96 * std / math.sqrt(n))"
   ]
  },
  {
   "cell_type": "markdown",
   "id": "8446fd7b",
   "metadata": {},
   "source": [
    "В результате 10 независимых измерений некоторой величины X, выполненных с одинаковой точностью,\n",
    "получены опытные данные:\n",
    "6.9, 6.1, 6.2, 6.8, 7.5, 6.3, 6.4, 6.9, 6.7, 6.1\n",
    "Предполагая, что результаты измерений подчинены нормальному закону распределения вероятностей,\n",
    "оценить истинное значение величины X при помощи доверительного интервала, покрывающего это\n",
    "значение с доверительной вероятностью 0,95."
   ]
  },
  {
   "cell_type": "code",
   "execution_count": 102,
   "id": "c795091a",
   "metadata": {},
   "outputs": [],
   "source": [
    "a = 6.9, 6.1, 6.2, 6.8, 7.5, 6.3, 6.4, 6.9, 6.7, 6.1"
   ]
  },
  {
   "cell_type": "code",
   "execution_count": 103,
   "id": "7d5a5518",
   "metadata": {},
   "outputs": [],
   "source": [
    "n = len(a)\n",
    "mean = sum(a) / n\n",
    "c = []"
   ]
  },
  {
   "cell_type": "code",
   "execution_count": 104,
   "id": "c8fe03d1",
   "metadata": {},
   "outputs": [],
   "source": [
    "for i in a:\n",
    "    b = (i - mean) ** 2\n",
    "    c.append(b)"
   ]
  },
  {
   "cell_type": "code",
   "execution_count": 105,
   "id": "ea629d63",
   "metadata": {},
   "outputs": [],
   "source": [
    "s = sum(c)\n",
    "D = s / n\n",
    "D1 = s / (n - 1)\n",
    "std = math.sqrt(D)\n",
    "std1 = math.sqrt(D1)\n",
    "t = 2.262\n",
    "E = t * (std1 / math.sqrt(n))"
   ]
  },
  {
   "cell_type": "code",
   "execution_count": 106,
   "id": "6c0bd4ce",
   "metadata": {},
   "outputs": [
    {
     "data": {
      "text/plain": [
       "6.912461744087573"
      ]
     },
     "execution_count": 106,
     "metadata": {},
     "output_type": "execute_result"
    }
   ],
   "source": [
    "mean + E"
   ]
  },
  {
   "cell_type": "code",
   "execution_count": 107,
   "id": "6ac0b5bf",
   "metadata": {},
   "outputs": [
    {
     "data": {
      "text/plain": [
       "6.267538255912425"
      ]
     },
     "execution_count": 107,
     "metadata": {},
     "output_type": "execute_result"
    }
   ],
   "source": [
    "mean - E"
   ]
  },
  {
   "cell_type": "markdown",
   "id": "6c1122ec",
   "metadata": {},
   "source": [
    "Утверждается, что шарики для подшипников, изготовленные автоматическим станком, имеют средний диаметр 17 мм.\n",
    "Используя односторонний критерий с α=0,05, проверить эту гипотезу, если в выборке из n=100 шариков средний диаметр\n",
    "оказался равным 17.5 мм, а дисперсия известна и равна 4 кв. мм."
   ]
  },
  {
   "cell_type": "code",
   "execution_count": 108,
   "id": "cc2e1c12",
   "metadata": {},
   "outputs": [],
   "source": [
    "mean = 17\n",
    "\n",
    "n = 100\n",
    "mean_a = 17.5\n",
    "D_a = 4"
   ]
  },
  {
   "cell_type": "code",
   "execution_count": 109,
   "id": "fc63d343",
   "metadata": {},
   "outputs": [
    {
     "data": {
      "text/plain": [
       "2.5"
      ]
     },
     "execution_count": 109,
     "metadata": {},
     "output_type": "execute_result"
    }
   ],
   "source": [
    "Z_h = ((mean_a - mean) / math.sqrt(D_a)) * math.sqrt(n)\n",
    "Z_h"
   ]
  },
  {
   "cell_type": "code",
   "execution_count": 110,
   "id": "d0595d68",
   "metadata": {},
   "outputs": [],
   "source": [
    "Z = 1.654"
   ]
  },
  {
   "cell_type": "markdown",
   "id": "05a383dd",
   "metadata": {},
   "source": [
    "Z_h > Z.\n",
    "Альтернативная верна"
   ]
  },
  {
   "cell_type": "markdown",
   "id": "e2fdc0df",
   "metadata": {},
   "source": [
    "Продавец утверждает, что средний вес пачки печенья составляет 200 г. Из партии извлечена выборка из 10 пачек. Вес каждой пачки составляет: 202, 203, 199, 197, 195, 201, 200, 204, 194, 190. Известно, что их веса распределены нормально. Верно ли утверждение продавца, если учитывать, что доверительная вероятность равна 99%?"
   ]
  },
  {
   "cell_type": "code",
   "execution_count": 111,
   "id": "4156db59",
   "metadata": {},
   "outputs": [],
   "source": [
    "import numpy as np\n",
    "from scipy import stats"
   ]
  },
  {
   "cell_type": "code",
   "execution_count": 112,
   "id": "369e4d90",
   "metadata": {},
   "outputs": [],
   "source": [
    "mean = 200\n",
    "a = 202, 203, 199, 197, 195, 201, 200, 204, 194, 190\n",
    "\n",
    "n = len(a)"
   ]
  },
  {
   "cell_type": "code",
   "execution_count": 113,
   "id": "10261366",
   "metadata": {},
   "outputs": [],
   "source": [
    "mean_a = sum(a) / n"
   ]
  },
  {
   "cell_type": "code",
   "execution_count": 114,
   "id": "963c8812",
   "metadata": {},
   "outputs": [],
   "source": [
    "std = np.std(a)"
   ]
  },
  {
   "cell_type": "code",
   "execution_count": 115,
   "id": "c018eeea",
   "metadata": {},
   "outputs": [
    {
     "data": {
      "text/plain": [
       "-1.1227217828476797"
      ]
     },
     "execution_count": 115,
     "metadata": {},
     "output_type": "execute_result"
    }
   ],
   "source": [
    "Z_h = ((mean_a - mean) / std) * math.sqrt(n)\n",
    "Z_h"
   ]
  },
  {
   "cell_type": "code",
   "execution_count": 116,
   "id": "e5bba6f2",
   "metadata": {},
   "outputs": [
    {
     "data": {
      "text/plain": [
       "-3.24983554401537"
      ]
     },
     "execution_count": 116,
     "metadata": {},
     "output_type": "execute_result"
    }
   ],
   "source": [
    "α = 0.01\n",
    "\n",
    "t1 = stats.t.ppf(α / 2, df=n - 1)\n",
    "t1"
   ]
  },
  {
   "cell_type": "markdown",
   "id": "aad6ad68",
   "metadata": {},
   "source": [
    "Z_h > Z. Нулевая верна (попадает в диапазон)"
   ]
  }
 ],
 "metadata": {
  "kernelspec": {
   "display_name": "Python 3",
   "language": "python",
   "name": "python3"
  },
  "language_info": {
   "codemirror_mode": {
    "name": "ipython",
    "version": 3
   },
   "file_extension": ".py",
   "mimetype": "text/x-python",
   "name": "python",
   "nbconvert_exporter": "python",
   "pygments_lexer": "ipython3",
   "version": "3.8.8"
  }
 },
 "nbformat": 4,
 "nbformat_minor": 5
}
